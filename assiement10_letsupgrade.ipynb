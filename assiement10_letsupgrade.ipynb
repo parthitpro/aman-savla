{
  "nbformat": 4,
  "nbformat_minor": 0,
  "metadata": {
    "colab": {
      "name": "assiement10_letsupgrade.ipynb",
      "provenance": [],
      "collapsed_sections": []
    },
    "kernelspec": {
      "name": "python3",
      "display_name": "Python 3"
    }
  },
  "cells": [
    {
      "cell_type": "markdown",
      "metadata": {
        "id": "X-8jFHut-sC8"
      },
      "source": [
        "Q2\n",
        "\n",
        " find the recall , precission,f1 score,and confussion matric with picture"
      ]
    },
    {
      "cell_type": "markdown",
      "metadata": {
        "id": "fwkMw5698Fqe"
      },
      "source": [
        "confussion matric\n",
        "tp ,tn fn,fp\n",
        "f1"
      ]
    },
    {
      "cell_type": "code",
      "metadata": {
        "id": "OS0HuIg6ZcN2",
        "outputId": "f42b73e0-bad5-4bad-d9e6-e39be89263fe",
        "colab": {
          "base_uri": "https://localhost:8080/",
          "height": 34
        }
      },
      "source": [
        "tp=42\n",
        "tn=32\n",
        "fp=8\n",
        "fn=18\n",
        "print(tp,tn,fp,fn)"
      ],
      "execution_count": null,
      "outputs": [
        {
          "output_type": "stream",
          "text": [
            "42 32 8 18\n"
          ],
          "name": "stdout"
        }
      ]
    },
    {
      "cell_type": "code",
      "metadata": {
        "id": "orgFRVhC8l9M",
        "outputId": "6debe29b-dcbb-4866-d2c6-7a1417e365fb",
        "colab": {
          "base_uri": "https://localhost:8080/",
          "height": 34
        }
      },
      "source": [
        "Accuracy = (tp + tn)/(tp + tn + fp + fn)\n",
        "print(Accuracy)"
      ],
      "execution_count": null,
      "outputs": [
        {
          "output_type": "stream",
          "text": [
            "0.74\n"
          ],
          "name": "stdout"
        }
      ]
    },
    {
      "cell_type": "code",
      "metadata": {
        "id": "pv5lt_gA8xFa",
        "outputId": "2bb0f098-639e-4481-fec7-ddbd5f1c249c",
        "colab": {
          "base_uri": "https://localhost:8080/",
          "height": 34
        }
      },
      "source": [
        "precision = tp/ (tp+fp)\n",
        "print(\"precision:\",precision)"
      ],
      "execution_count": null,
      "outputs": [
        {
          "output_type": "stream",
          "text": [
            "precision: 0.84\n"
          ],
          "name": "stdout"
        }
      ]
    },
    {
      "cell_type": "code",
      "metadata": {
        "id": "s5jxi0NM9Cu8",
        "outputId": "6a04bfb3-5285-4ca4-cc69-54390b46f3b0",
        "colab": {
          "base_uri": "https://localhost:8080/",
          "height": 34
        }
      },
      "source": [
        "precision"
      ],
      "execution_count": null,
      "outputs": [
        {
          "output_type": "execute_result",
          "data": {
            "text/plain": [
              "0.84"
            ]
          },
          "metadata": {
            "tags": []
          },
          "execution_count": 6
        }
      ]
    },
    {
      "cell_type": "code",
      "metadata": {
        "id": "w67NrYEL9HbZ",
        "outputId": "187e75c0-82ae-4978-b025-af0d5f738d3b",
        "colab": {
          "base_uri": "https://localhost:8080/",
          "height": 34
        }
      },
      "source": [
        "recall = tp / (tp+fn)\n",
        "print(\"recall\", recall)"
      ],
      "execution_count": null,
      "outputs": [
        {
          "output_type": "stream",
          "text": [
            "recall 0.7\n"
          ],
          "name": "stdout"
        }
      ]
    },
    {
      "cell_type": "code",
      "metadata": {
        "id": "skidAcfl9cpv",
        "outputId": "27acb512-9c6e-4328-8922-173d15c3bb77",
        "colab": {
          "base_uri": "https://localhost:8080/",
          "height": 34
        }
      },
      "source": [
        "f1_score = 2 * precision * recall / (precision + recall)\n",
        "print(f1_score)"
      ],
      "execution_count": null,
      "outputs": [
        {
          "output_type": "stream",
          "text": [
            "0.7636363636363636\n"
          ],
          "name": "stdout"
        }
      ]
    },
    {
      "cell_type": "code",
      "metadata": {
        "id": "16DqVNzU9nPf"
      },
      "source": [
        ""
      ],
      "execution_count": null,
      "outputs": []
    },
    {
      "cell_type": "markdown",
      "metadata": {
        "id": "AyvcWnxD_O5x"
      },
      "source": [
        "Q1\n",
        "\n",
        "\n",
        "Create one array of actual values and another array of predicted values. Compare the two sets\n",
        "with the confusion matrix.\n"
      ]
    },
    {
      "cell_type": "code",
      "metadata": {
        "id": "hQTyoUAL_Ph0",
        "outputId": "8136d51a-573f-49f0-a32a-0645f4c03974",
        "colab": {
          "base_uri": "https://localhost:8080/",
          "height": 34
        }
      },
      "source": [
        "y_true = [2, 2, 6, 2, 6, 6, 6, 2, 6, 2, 6, 6, 6, 6, 6, 6]\n",
        "y_pred = [2,2,2 ,6, 2,2, 6, 2, 6, 6, 6, 6, 6, 6, 6, 6]\n",
        "from sklearn.metrics import accuracy_score\n",
        "accuracy_score(y_true, y_pred)"
      ],
      "execution_count": null,
      "outputs": [
        {
          "output_type": "execute_result",
          "data": {
            "text/plain": [
              "0.6875"
            ]
          },
          "metadata": {
            "tags": []
          },
          "execution_count": 33
        }
      ]
    },
    {
      "cell_type": "code",
      "metadata": {
        "id": "6HUO8zfWAmIt",
        "outputId": "32d8c8fd-56b2-46ea-a3b8-839028f9268b",
        "colab": {
          "base_uri": "https://localhost:8080/",
          "height": 34
        }
      },
      "source": [
        "from sklearn.metrics import precision_score\n",
        "positive = precision_score(y_true, y_pred, pos_label=2)\n",
        "print(positive)"
      ],
      "execution_count": null,
      "outputs": [
        {
          "output_type": "stream",
          "text": [
            "0.5\n"
          ],
          "name": "stdout"
        }
      ]
    },
    {
      "cell_type": "code",
      "metadata": {
        "id": "s2p80LtjAoI2",
        "outputId": "49b6422f-c6e8-45e3-f847-9b53b1ff7e1c",
        "colab": {
          "base_uri": "https://localhost:8080/",
          "height": 34
        }
      },
      "source": [
        "negative = precision_score(y_true, y_pred, pos_label=6)\n",
        "print(negative)"
      ],
      "execution_count": null,
      "outputs": [
        {
          "output_type": "stream",
          "text": [
            "0.8\n"
          ],
          "name": "stdout"
        }
      ]
    },
    {
      "cell_type": "code",
      "metadata": {
        "id": "D_DTbcPQApqq",
        "outputId": "3a0f1b5a-0847-4bdd-b48a-fcf244dcc0c1",
        "colab": {
          "base_uri": "https://localhost:8080/",
          "height": 34
        }
      },
      "source": [
        "from sklearn.metrics import recall_score\n",
        "positive = recall_score(y_true, y_pred, pos_label=2)\n",
        "print(positive)"
      ],
      "execution_count": null,
      "outputs": [
        {
          "output_type": "stream",
          "text": [
            "0.6\n"
          ],
          "name": "stdout"
        }
      ]
    },
    {
      "cell_type": "code",
      "metadata": {
        "id": "YEqVMo3gArkW",
        "outputId": "6dfdca0c-9108-47dc-8094-35e1a1f93a59",
        "colab": {
          "base_uri": "https://localhost:8080/",
          "height": 34
        }
      },
      "source": [
        "negative = recall_score(y_true, y_pred, pos_label=6)\n",
        "print(negative)"
      ],
      "execution_count": null,
      "outputs": [
        {
          "output_type": "stream",
          "text": [
            "0.7272727272727273\n"
          ],
          "name": "stdout"
        }
      ]
    },
    {
      "cell_type": "code",
      "metadata": {
        "id": "ZFhSQxYSAuUV",
        "outputId": "ba486b31-763a-4f1c-e567-102e13b5f067",
        "colab": {
          "base_uri": "https://localhost:8080/",
          "height": 34
        }
      },
      "source": [
        "from sklearn.metrics import f1_score\n",
        "postive = f1_score(y_true, y_pred, pos_label=2)\n",
        "print(postive)"
      ],
      "execution_count": null,
      "outputs": [
        {
          "output_type": "stream",
          "text": [
            "0.5454545454545454\n"
          ],
          "name": "stdout"
        }
      ]
    },
    {
      "cell_type": "code",
      "metadata": {
        "id": "58Bn5mY3Awez",
        "outputId": "c76df98d-6049-452d-a6d8-faae5f487bfb",
        "colab": {
          "base_uri": "https://localhost:8080/",
          "height": 34
        }
      },
      "source": [
        "negative = f1_score(y_true, y_pred, pos_label=6)\n",
        "print(negative)"
      ],
      "execution_count": null,
      "outputs": [
        {
          "output_type": "stream",
          "text": [
            "0.761904761904762\n"
          ],
          "name": "stdout"
        }
      ]
    },
    {
      "cell_type": "code",
      "metadata": {
        "id": "RV6RIxsTAy7M",
        "outputId": "09f33db1-71bc-4fc2-ac08-d447b2aa6390",
        "colab": {
          "base_uri": "https://localhost:8080/",
          "height": 175
        }
      },
      "source": [
        "from sklearn.metrics import classification_report\n",
        "report = classification_report(y_true, y_pred)\n",
        "print(report)"
      ],
      "execution_count": null,
      "outputs": [
        {
          "output_type": "stream",
          "text": [
            "              precision    recall  f1-score   support\n",
            "\n",
            "           2       0.50      0.60      0.55         5\n",
            "           6       0.80      0.73      0.76        11\n",
            "\n",
            "    accuracy                           0.69        16\n",
            "   macro avg       0.65      0.66      0.65        16\n",
            "weighted avg       0.71      0.69      0.69        16\n",
            "\n"
          ],
          "name": "stdout"
        }
      ]
    }
  ]
}