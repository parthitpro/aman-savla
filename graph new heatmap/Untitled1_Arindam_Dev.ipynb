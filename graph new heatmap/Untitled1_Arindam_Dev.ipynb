{
  "nbformat": 4,
  "nbformat_minor": 0,
  "metadata": {
    "kernelspec": {
      "display_name": "Python 3",
      "language": "python",
      "name": "python3"
    },
    "language_info": {
      "codemirror_mode": {
        "name": "ipython",
        "version": 3
      },
      "file_extension": ".py",
      "mimetype": "text/x-python",
      "name": "python",
      "nbconvert_exporter": "python",
      "pygments_lexer": "ipython3",
      "version": "3.7.3"
    },
    "colab": {
      "name": "Untitled1 - Arindam Dev.ipynb",
      "provenance": []
    }
  },
  "cells": [
    {
      "cell_type": "markdown",
      "metadata": {
        "id": "DmPMgqO6werr"
      },
      "source": [
        "# ____First Program___"
      ]
    },
    {
      "cell_type": "code",
      "metadata": {
        "id": "G1MzIx6Yweru",
        "outputId": "45bd7186-fb17-41c3-ba2d-2331a609e99b"
      },
      "source": [
        "#print\n",
        "\n",
        "55466+545654"
      ],
      "execution_count": null,
      "outputs": [
        {
          "output_type": "execute_result",
          "data": {
            "text/plain": [
              "601120"
            ]
          },
          "metadata": {
            "tags": []
          },
          "execution_count": 1
        }
      ]
    },
    {
      "cell_type": "code",
      "metadata": {
        "id": "wTh0fV_7wer8",
        "outputId": "3ba1c8f7-e0b7-4d8e-d5f9-252478d87742"
      },
      "source": [
        "566456895+555555566"
      ],
      "execution_count": null,
      "outputs": [
        {
          "output_type": "execute_result",
          "data": {
            "text/plain": [
              "1122012461"
            ]
          },
          "metadata": {
            "tags": []
          },
          "execution_count": 2
        }
      ]
    },
    {
      "cell_type": "code",
      "metadata": {
        "id": "g3DUvDX9wesJ",
        "outputId": "632d38ff-b8e4-44a6-e177-f96883312b8c"
      },
      "source": [
        "64555566*2566566"
      ],
      "execution_count": null,
      "outputs": [
        {
          "output_type": "execute_result",
          "data": {
            "text/plain": [
              "165686120806356"
            ]
          },
          "metadata": {
            "tags": []
          },
          "execution_count": 4
        }
      ]
    },
    {
      "cell_type": "code",
      "metadata": {
        "id": "JRqJXIkjwesb"
      },
      "source": [
        "a=1"
      ],
      "execution_count": null,
      "outputs": []
    },
    {
      "cell_type": "code",
      "metadata": {
        "id": "8w9zQ3e2wesq",
        "outputId": "8c743179-792a-4689-9ff9-4ee20e1fdbd2"
      },
      "source": [
        "a"
      ],
      "execution_count": null,
      "outputs": [
        {
          "output_type": "execute_result",
          "data": {
            "text/plain": [
              "1"
            ]
          },
          "metadata": {
            "tags": []
          },
          "execution_count": 6
        }
      ]
    },
    {
      "cell_type": "code",
      "metadata": {
        "id": "5X0CwgMxwes5"
      },
      "source": [
        "a=55\n",
        "b='gg'"
      ],
      "execution_count": null,
      "outputs": []
    },
    {
      "cell_type": "code",
      "metadata": {
        "id": "xTim8RGLwetD",
        "outputId": "2e3dd7c4-18c0-4740-e361-59b00f3e3784"
      },
      "source": [
        "a\n",
        "b"
      ],
      "execution_count": null,
      "outputs": [
        {
          "output_type": "execute_result",
          "data": {
            "text/plain": [
              "'gg'"
            ]
          },
          "metadata": {
            "tags": []
          },
          "execution_count": 8
        }
      ]
    },
    {
      "cell_type": "code",
      "metadata": {
        "id": "0uuuamv0wetQ",
        "outputId": "85ee03c1-205e-48f4-a353-3ba14527bfc9"
      },
      "source": [
        "print(a)\n",
        "print(b)"
      ],
      "execution_count": null,
      "outputs": [
        {
          "output_type": "stream",
          "text": [
            "55\n",
            "gg\n"
          ],
          "name": "stdout"
        }
      ]
    },
    {
      "cell_type": "code",
      "metadata": {
        "id": "cy79rFHowetZ",
        "outputId": "79534ac8-1084-46d4-ff9b-0b712328669e"
      },
      "source": [
        "c=a+b"
      ],
      "execution_count": null,
      "outputs": [
        {
          "output_type": "error",
          "ename": "TypeError",
          "evalue": "unsupported operand type(s) for +: 'int' and 'str'",
          "traceback": [
            "\u001b[1;31m---------------------------------------------------------------------------\u001b[0m",
            "\u001b[1;31mTypeError\u001b[0m                                 Traceback (most recent call last)",
            "\u001b[1;32m<ipython-input-10-f483505f29ef>\u001b[0m in \u001b[0;36m<module>\u001b[1;34m\u001b[0m\n\u001b[1;32m----> 1\u001b[1;33m \u001b[0mc\u001b[0m\u001b[1;33m=\u001b[0m\u001b[0ma\u001b[0m\u001b[1;33m+\u001b[0m\u001b[0mb\u001b[0m\u001b[1;33m\u001b[0m\u001b[1;33m\u001b[0m\u001b[0m\n\u001b[0m",
            "\u001b[1;31mTypeError\u001b[0m: unsupported operand type(s) for +: 'int' and 'str'"
          ]
        }
      ]
    },
    {
      "cell_type": "code",
      "metadata": {
        "id": "Vc_cY55jwetj"
      },
      "source": [
        "c=str(a)+b"
      ],
      "execution_count": null,
      "outputs": []
    },
    {
      "cell_type": "code",
      "metadata": {
        "id": "S_zzVBtwwetp",
        "outputId": "44125c07-db8e-4bb7-cc47-db4834e30bba"
      },
      "source": [
        "c"
      ],
      "execution_count": null,
      "outputs": [
        {
          "output_type": "execute_result",
          "data": {
            "text/plain": [
              "'55gg'"
            ]
          },
          "metadata": {
            "tags": []
          },
          "execution_count": 12
        }
      ]
    },
    {
      "cell_type": "code",
      "metadata": {
        "id": "16nkKbPawetu"
      },
      "source": [
        "a=10.0+20.0"
      ],
      "execution_count": null,
      "outputs": []
    },
    {
      "cell_type": "code",
      "metadata": {
        "id": "iFZXORIbwet5",
        "outputId": "0c80d663-53d9-4ed1-905d-225728db6367"
      },
      "source": [
        "a"
      ],
      "execution_count": null,
      "outputs": [
        {
          "output_type": "execute_result",
          "data": {
            "text/plain": [
              "30.0"
            ]
          },
          "metadata": {
            "tags": []
          },
          "execution_count": 14
        }
      ]
    },
    {
      "cell_type": "code",
      "metadata": {
        "id": "K_S29zpBwet-",
        "outputId": "777fdad1-4df6-4d31-a548-f8df9f35a229"
      },
      "source": [
        "type(a)"
      ],
      "execution_count": null,
      "outputs": [
        {
          "output_type": "execute_result",
          "data": {
            "text/plain": [
              "float"
            ]
          },
          "metadata": {
            "tags": []
          },
          "execution_count": 15
        }
      ]
    },
    {
      "cell_type": "code",
      "metadata": {
        "id": "BdZqfiIPweuK",
        "outputId": "f69fbae4-1163-48ff-ec79-487bf296e44f"
      },
      "source": [
        "type(b)"
      ],
      "execution_count": null,
      "outputs": [
        {
          "output_type": "execute_result",
          "data": {
            "text/plain": [
              "str"
            ]
          },
          "metadata": {
            "tags": []
          },
          "execution_count": 16
        }
      ]
    },
    {
      "cell_type": "code",
      "metadata": {
        "id": "BINFuklGweuR"
      },
      "source": [
        "x='Arindam'"
      ],
      "execution_count": null,
      "outputs": []
    },
    {
      "cell_type": "code",
      "metadata": {
        "id": "jc0kAw9VweuZ",
        "outputId": "412ad343-624d-49b6-a527-f1a4fed62cd5"
      },
      "source": [
        "x"
      ],
      "execution_count": null,
      "outputs": [
        {
          "output_type": "execute_result",
          "data": {
            "text/plain": [
              "'Arindam'"
            ]
          },
          "metadata": {
            "tags": []
          },
          "execution_count": 18
        }
      ]
    },
    {
      "cell_type": "code",
      "metadata": {
        "id": "TVEf9RYSweug"
      },
      "source": [
        "y=\"Arindam's\""
      ],
      "execution_count": null,
      "outputs": []
    },
    {
      "cell_type": "code",
      "metadata": {
        "id": "2qNTkDqtweuo",
        "outputId": "2ce2a63c-2aed-44d7-b338-2149339eedb2"
      },
      "source": [
        "y"
      ],
      "execution_count": null,
      "outputs": [
        {
          "output_type": "execute_result",
          "data": {
            "text/plain": [
              "\"Arindam's\""
            ]
          },
          "metadata": {
            "tags": []
          },
          "execution_count": 21
        }
      ]
    },
    {
      "cell_type": "code",
      "metadata": {
        "id": "ltWrEw8lweut",
        "outputId": "f9609fb3-f6da-47ad-c0c0-953e1acd6566"
      },
      "source": [
        "type(y)"
      ],
      "execution_count": null,
      "outputs": [
        {
          "output_type": "execute_result",
          "data": {
            "text/plain": [
              "str"
            ]
          },
          "metadata": {
            "tags": []
          },
          "execution_count": 22
        }
      ]
    },
    {
      "cell_type": "code",
      "metadata": {
        "id": "9OKtdE-9weu5",
        "outputId": "dc16e412-3084-4e69-900c-2397f6b9b0f6"
      },
      "source": [
        "a1=1,2,3,4,'vv'\n",
        "\n",
        "a1"
      ],
      "execution_count": null,
      "outputs": [
        {
          "output_type": "execute_result",
          "data": {
            "text/plain": [
              "(1, 2, 3, 4, 'vv')"
            ]
          },
          "metadata": {
            "tags": []
          },
          "execution_count": 25
        }
      ]
    },
    {
      "cell_type": "code",
      "metadata": {
        "id": "LdNe4uOYwevC",
        "outputId": "24e41759-2f47-4360-d1b8-76643f3fda69"
      },
      "source": [
        "my_list=[1,2,3,4,5,'vv',\"cc's\",'dd',2,4,'dd',100,120,100]\n",
        "\n",
        "my_list"
      ],
      "execution_count": null,
      "outputs": [
        {
          "output_type": "execute_result",
          "data": {
            "text/plain": [
              "[1, 2, 3, 4, 5, 'vv', \"cc's\", 'dd', 2, 4, 'dd', 100, 120, 100]"
            ]
          },
          "metadata": {
            "tags": []
          },
          "execution_count": 51
        }
      ]
    },
    {
      "cell_type": "code",
      "metadata": {
        "id": "XHjuxvFLwevJ",
        "outputId": "255e3b72-7db8-43a6-a2ec-da4c52f461f8"
      },
      "source": [
        "type(my_list)"
      ],
      "execution_count": null,
      "outputs": [
        {
          "output_type": "execute_result",
          "data": {
            "text/plain": [
              "list"
            ]
          },
          "metadata": {
            "tags": []
          },
          "execution_count": 29
        }
      ]
    },
    {
      "cell_type": "code",
      "metadata": {
        "id": "ukbncyJGwevP",
        "outputId": "9dc97274-e046-406f-a01a-7ac546609282"
      },
      "source": [
        "my_list[-5:]"
      ],
      "execution_count": null,
      "outputs": [
        {
          "output_type": "execute_result",
          "data": {
            "text/plain": [
              "[4, 5, 'vv', \"cc's\", 'dd']"
            ]
          },
          "metadata": {
            "tags": []
          },
          "execution_count": 47
        }
      ]
    },
    {
      "cell_type": "code",
      "metadata": {
        "id": "X431CRIUwevb"
      },
      "source": [
        "my_list.append(10)"
      ],
      "execution_count": null,
      "outputs": []
    },
    {
      "cell_type": "code",
      "metadata": {
        "id": "0y4zRXSCwevi",
        "outputId": "b9debba2-2ac1-47ec-c81a-bcc90e673ecb"
      },
      "source": [
        "my_list"
      ],
      "execution_count": null,
      "outputs": [
        {
          "output_type": "execute_result",
          "data": {
            "text/plain": [
              "[1, 2, 3, 4, 5, 'vv', \"cc's\", 'dd', 10]"
            ]
          },
          "metadata": {
            "tags": []
          },
          "execution_count": 50
        }
      ]
    },
    {
      "cell_type": "code",
      "metadata": {
        "id": "GtVbfBnMwevr",
        "outputId": "414bdcb1-74b9-447c-9886-22ed26d7e7e6"
      },
      "source": [
        "my_list.count(120)"
      ],
      "execution_count": null,
      "outputs": [
        {
          "output_type": "execute_result",
          "data": {
            "text/plain": [
              "1"
            ]
          },
          "metadata": {
            "tags": []
          },
          "execution_count": 54
        }
      ]
    },
    {
      "cell_type": "code",
      "metadata": {
        "id": "Kdl8wziiwev0"
      },
      "source": [
        "list2=[500,600,700]"
      ],
      "execution_count": null,
      "outputs": []
    },
    {
      "cell_type": "code",
      "metadata": {
        "id": "FD66Se75wev8"
      },
      "source": [
        "my_list.append(list2)"
      ],
      "execution_count": null,
      "outputs": []
    },
    {
      "cell_type": "code",
      "metadata": {
        "id": "8mwJWfy-wewA",
        "outputId": "cfecd095-23b5-4094-c335-c0e2ccadb23f"
      },
      "source": [
        "my_list"
      ],
      "execution_count": null,
      "outputs": [
        {
          "output_type": "execute_result",
          "data": {
            "text/plain": [
              "[1, 2, 3, 4, 5, 'vv', \"cc's\", 'dd', 2, 4, 'dd', 100, 120, 100, [500, 600, 700]]"
            ]
          },
          "metadata": {
            "tags": []
          },
          "execution_count": 57
        }
      ]
    },
    {
      "cell_type": "code",
      "metadata": {
        "id": "aoOjf6tmwewJ"
      },
      "source": [
        "list3=['nn','mm','gg']"
      ],
      "execution_count": null,
      "outputs": []
    },
    {
      "cell_type": "code",
      "metadata": {
        "id": "HCDxU-MtwewQ"
      },
      "source": [
        "my_list.append(list3)"
      ],
      "execution_count": null,
      "outputs": []
    },
    {
      "cell_type": "code",
      "metadata": {
        "id": "V7qo5YJPwewU",
        "outputId": "385233a0-9a0f-4ba4-920e-3a4adcef7216"
      },
      "source": [
        "my_list"
      ],
      "execution_count": null,
      "outputs": [
        {
          "output_type": "execute_result",
          "data": {
            "text/plain": [
              "[1,\n",
              " 2,\n",
              " 3,\n",
              " 4,\n",
              " 5,\n",
              " 'vv',\n",
              " \"cc's\",\n",
              " 'dd',\n",
              " 2,\n",
              " 4,\n",
              " 'dd',\n",
              " 100,\n",
              " 120,\n",
              " 100,\n",
              " [500, 600, 700],\n",
              " ['nn', 'mm', 'gg']]"
            ]
          },
          "metadata": {
            "tags": []
          },
          "execution_count": 60
        }
      ]
    },
    {
      "cell_type": "code",
      "metadata": {
        "id": "SE5f15Lowewe"
      },
      "source": [
        "my_list.extend([70,80,50000])"
      ],
      "execution_count": null,
      "outputs": []
    },
    {
      "cell_type": "code",
      "metadata": {
        "id": "17FWg-eIwewk",
        "outputId": "5bf3c2fc-231c-4a69-e5e1-dc87044eb11e"
      },
      "source": [
        "my_list"
      ],
      "execution_count": null,
      "outputs": [
        {
          "output_type": "execute_result",
          "data": {
            "text/plain": [
              "[1,\n",
              " 2,\n",
              " 3,\n",
              " 4,\n",
              " 5,\n",
              " 'vv',\n",
              " \"cc's\",\n",
              " 'dd',\n",
              " 2,\n",
              " 4,\n",
              " 'dd',\n",
              " 100,\n",
              " 120,\n",
              " 100,\n",
              " [500, 600, 700],\n",
              " ['nn', 'mm', 'gg'],\n",
              " 70,\n",
              " 80,\n",
              " 50000]"
            ]
          },
          "metadata": {
            "tags": []
          },
          "execution_count": 63
        }
      ]
    },
    {
      "cell_type": "code",
      "metadata": {
        "id": "R9igE1vmwewq",
        "outputId": "d461646c-9853-4373-bf2d-fd9d63d0a876"
      },
      "source": [
        "my_list[15][0]"
      ],
      "execution_count": null,
      "outputs": [
        {
          "output_type": "execute_result",
          "data": {
            "text/plain": [
              "'nn'"
            ]
          },
          "metadata": {
            "tags": []
          },
          "execution_count": 64
        }
      ]
    },
    {
      "cell_type": "code",
      "metadata": {
        "id": "4BKUdt6-wew7",
        "outputId": "73e09078-7c19-4ee2-c910-a1d98277ed92"
      },
      "source": [
        "my_list.index('dd')"
      ],
      "execution_count": null,
      "outputs": [
        {
          "output_type": "execute_result",
          "data": {
            "text/plain": [
              "7"
            ]
          },
          "metadata": {
            "tags": []
          },
          "execution_count": 68
        }
      ]
    },
    {
      "cell_type": "code",
      "metadata": {
        "id": "0P55chVUwexA",
        "outputId": "2c6566e9-56a5-4836-9a00-6b849c7abe95"
      },
      "source": [
        "my_list.pop()"
      ],
      "execution_count": null,
      "outputs": [
        {
          "output_type": "execute_result",
          "data": {
            "text/plain": [
              "50000"
            ]
          },
          "metadata": {
            "tags": []
          },
          "execution_count": 69
        }
      ]
    },
    {
      "cell_type": "code",
      "metadata": {
        "id": "MzdQh6nMwexG",
        "outputId": "a932d207-a83c-4a9a-ac1b-80875555e5ad"
      },
      "source": [
        "my_list"
      ],
      "execution_count": null,
      "outputs": [
        {
          "output_type": "execute_result",
          "data": {
            "text/plain": [
              "[1,\n",
              " 2,\n",
              " 3,\n",
              " 4,\n",
              " 5,\n",
              " 'vv',\n",
              " \"cc's\",\n",
              " 'dd',\n",
              " 2,\n",
              " 4,\n",
              " 'dd',\n",
              " 100,\n",
              " 120,\n",
              " 100,\n",
              " [500, 600, 700],\n",
              " ['nn', 'mm', 'gg'],\n",
              " 70,\n",
              " 80]"
            ]
          },
          "metadata": {
            "tags": []
          },
          "execution_count": 70
        }
      ]
    },
    {
      "cell_type": "code",
      "metadata": {
        "id": "oyGxN2aYwexM",
        "outputId": "f37d7ed0-af97-4ef5-ab47-39689fbadea8"
      },
      "source": [
        "my_list.remove(4)\n",
        "\n",
        "my_list"
      ],
      "execution_count": null,
      "outputs": [
        {
          "output_type": "execute_result",
          "data": {
            "text/plain": [
              "[1,\n",
              " 2,\n",
              " 3,\n",
              " 5,\n",
              " 'vv',\n",
              " \"cc's\",\n",
              " 'dd',\n",
              " 2,\n",
              " 'dd',\n",
              " 100,\n",
              " 120,\n",
              " 100,\n",
              " [500, 600, 700],\n",
              " ['nn', 'mm', 'gg'],\n",
              " 70,\n",
              " 80]"
            ]
          },
          "metadata": {
            "tags": []
          },
          "execution_count": 72
        }
      ]
    },
    {
      "cell_type": "code",
      "metadata": {
        "id": "XcKmfLiqwexR"
      },
      "source": [
        "my_list.reverse()"
      ],
      "execution_count": null,
      "outputs": []
    },
    {
      "cell_type": "code",
      "metadata": {
        "id": "ouZhQnxmwexa",
        "outputId": "08194421-297f-400b-8760-73a85e8d5d4d"
      },
      "source": [
        "my_list"
      ],
      "execution_count": null,
      "outputs": [
        {
          "output_type": "execute_result",
          "data": {
            "text/plain": [
              "[80,\n",
              " 70,\n",
              " ['nn', 'mm', 'gg'],\n",
              " [500, 600, 700],\n",
              " 100,\n",
              " 120,\n",
              " 100,\n",
              " 'dd',\n",
              " 2,\n",
              " 'dd',\n",
              " \"cc's\",\n",
              " 'vv',\n",
              " 5,\n",
              " 3,\n",
              " 2,\n",
              " 1]"
            ]
          },
          "metadata": {
            "tags": []
          },
          "execution_count": 77
        }
      ]
    },
    {
      "cell_type": "code",
      "metadata": {
        "id": "JngBMYvdwexf",
        "outputId": "7f237aa0-0d2d-42d9-c6e5-5482d4e63941"
      },
      "source": [
        "list2.sort()\n",
        "\n",
        "list2"
      ],
      "execution_count": null,
      "outputs": [
        {
          "output_type": "execute_result",
          "data": {
            "text/plain": [
              "[500, 600, 700]"
            ]
          },
          "metadata": {
            "tags": []
          },
          "execution_count": 80
        }
      ]
    },
    {
      "cell_type": "code",
      "metadata": {
        "id": "TC4OkXGKwexp",
        "outputId": "c59764bf-eada-4455-8519-d493f02cd834"
      },
      "source": [
        "sorted(list2,reverse=True)"
      ],
      "execution_count": null,
      "outputs": [
        {
          "output_type": "execute_result",
          "data": {
            "text/plain": [
              "[700, 600, 500]"
            ]
          },
          "metadata": {
            "tags": []
          },
          "execution_count": 82
        }
      ]
    },
    {
      "cell_type": "code",
      "metadata": {
        "id": "DS9UafTGwexx"
      },
      "source": [
        "list2.insert(1,550)"
      ],
      "execution_count": null,
      "outputs": []
    },
    {
      "cell_type": "code",
      "metadata": {
        "id": "AlpdMwiUwex0"
      },
      "source": [
        ""
      ],
      "execution_count": null,
      "outputs": []
    },
    {
      "cell_type": "code",
      "metadata": {
        "id": "B9HEhgBGwex4"
      },
      "source": [
        ""
      ],
      "execution_count": null,
      "outputs": []
    },
    {
      "cell_type": "code",
      "metadata": {
        "id": "u1AW2Ru6wex8"
      },
      "source": [
        ""
      ],
      "execution_count": null,
      "outputs": []
    },
    {
      "cell_type": "code",
      "metadata": {
        "id": "iaYAZqXxwex_",
        "outputId": "5a2e9ead-b8b3-40d6-cebf-3a23fb938c19"
      },
      "source": [
        "list2"
      ],
      "execution_count": null,
      "outputs": [
        {
          "output_type": "execute_result",
          "data": {
            "text/plain": [
              "[500, 550, 600, 700]"
            ]
          },
          "metadata": {
            "tags": []
          },
          "execution_count": 85
        }
      ]
    },
    {
      "cell_type": "code",
      "metadata": {
        "id": "8d4Tb2CYweyD"
      },
      "source": [
        "my_dict={'key1':'xx','key2':[10,20,30],'key3':35,'key4':40}"
      ],
      "execution_count": null,
      "outputs": []
    },
    {
      "cell_type": "code",
      "metadata": {
        "id": "VikhjnVbweyG",
        "outputId": "e4a54580-f3bb-49c3-ba27-1537b917b7a2"
      },
      "source": [
        "my_dict"
      ],
      "execution_count": null,
      "outputs": [
        {
          "output_type": "execute_result",
          "data": {
            "text/plain": [
              "{'key1': 'xx', 'key2': [10, 20, 30], 'key3': 35, 'key4': 40}"
            ]
          },
          "metadata": {
            "tags": []
          },
          "execution_count": 115
        }
      ]
    },
    {
      "cell_type": "code",
      "metadata": {
        "id": "TVEqf-UCweyK",
        "outputId": "285b50be-ce73-4eae-a951-de4cea1f660e"
      },
      "source": [
        "my_dict['key1'][0].upper()"
      ],
      "execution_count": null,
      "outputs": [
        {
          "output_type": "execute_result",
          "data": {
            "text/plain": [
              "'X'"
            ]
          },
          "metadata": {
            "tags": []
          },
          "execution_count": 116
        }
      ]
    },
    {
      "cell_type": "code",
      "metadata": {
        "id": "6YoSoEY4weyS",
        "outputId": "a88bca1d-35f7-4dfb-c8bf-5104dffe10d8"
      },
      "source": [
        "type(my_dict)"
      ],
      "execution_count": null,
      "outputs": [
        {
          "output_type": "execute_result",
          "data": {
            "text/plain": [
              "dict"
            ]
          },
          "metadata": {
            "tags": []
          },
          "execution_count": 89
        }
      ]
    },
    {
      "cell_type": "code",
      "metadata": {
        "id": "8RhAPL-GweyY"
      },
      "source": [
        "my_dict.update({'key5':45})"
      ],
      "execution_count": null,
      "outputs": []
    },
    {
      "cell_type": "code",
      "metadata": {
        "id": "zNFhPq9Sweyd",
        "outputId": "797d38e9-3b79-4dfc-fe48-7fccbfd1b940"
      },
      "source": [
        "my_dict"
      ],
      "execution_count": null,
      "outputs": [
        {
          "output_type": "execute_result",
          "data": {
            "text/plain": [
              "{'key1': 25, 'key2': 30, 'key3': 35, 'key4': 40, 'key5': 45}"
            ]
          },
          "metadata": {
            "tags": []
          },
          "execution_count": 94
        }
      ]
    },
    {
      "cell_type": "code",
      "metadata": {
        "id": "cGJu-3Bhweys",
        "outputId": "9e0f7496-433d-435a-8263-d50590d36d45"
      },
      "source": [
        "my_dict['key1']"
      ],
      "execution_count": null,
      "outputs": [
        {
          "output_type": "execute_result",
          "data": {
            "text/plain": [
              "25"
            ]
          },
          "metadata": {
            "tags": []
          },
          "execution_count": 95
        }
      ]
    },
    {
      "cell_type": "code",
      "metadata": {
        "id": "IPkMGUy4wey_",
        "outputId": "33f50891-adf4-4b49-fb9b-60664cede0c0"
      },
      "source": [
        "my_dict.keys()"
      ],
      "execution_count": null,
      "outputs": [
        {
          "output_type": "execute_result",
          "data": {
            "text/plain": [
              "dict_keys(['key1', 'key2', 'key3', 'key4', 'key5'])"
            ]
          },
          "metadata": {
            "tags": []
          },
          "execution_count": 96
        }
      ]
    },
    {
      "cell_type": "code",
      "metadata": {
        "id": "agFsIdWQwezI",
        "outputId": "18b33f63-b634-4ebe-e95a-d03642e5c8db"
      },
      "source": [
        "my_dict.values()"
      ],
      "execution_count": null,
      "outputs": [
        {
          "output_type": "execute_result",
          "data": {
            "text/plain": [
              "dict_values([25, 30, 35, 40, 45])"
            ]
          },
          "metadata": {
            "tags": []
          },
          "execution_count": 97
        }
      ]
    },
    {
      "cell_type": "code",
      "metadata": {
        "id": "ggiHeqKnwezQ"
      },
      "source": [
        "list_1 = ['name1','name2','name3']\n",
        "list_2 = [40,50,60]"
      ],
      "execution_count": null,
      "outputs": []
    },
    {
      "cell_type": "code",
      "metadata": {
        "id": "f8gOAyXawezX",
        "outputId": "d718a38d-72d7-4658-cd41-69825f106bbb"
      },
      "source": [
        "dict(zip(list_1,list_2))"
      ],
      "execution_count": null,
      "outputs": [
        {
          "output_type": "execute_result",
          "data": {
            "text/plain": [
              "{'name1': 40, 'name2': 50, 'name3': 60}"
            ]
          },
          "metadata": {
            "tags": []
          },
          "execution_count": 102
        }
      ]
    },
    {
      "cell_type": "code",
      "metadata": {
        "id": "N2ObawVIweza"
      },
      "source": [
        "my_dict1={'key1':{'xx':40,'yy':45}}"
      ],
      "execution_count": null,
      "outputs": []
    },
    {
      "cell_type": "code",
      "metadata": {
        "id": "IOBQa9X4wezf",
        "outputId": "0ee09b89-563d-4b72-c347-336bae50d3dd"
      },
      "source": [
        "my_dict1['key1']"
      ],
      "execution_count": null,
      "outputs": [
        {
          "output_type": "execute_result",
          "data": {
            "text/plain": [
              "{'xx': 40, 'yy': 45}"
            ]
          },
          "metadata": {
            "tags": []
          },
          "execution_count": 111
        }
      ]
    },
    {
      "cell_type": "code",
      "metadata": {
        "id": "MnmkmUuqwezj"
      },
      "source": [
        ""
      ],
      "execution_count": null,
      "outputs": []
    }
  ]
}